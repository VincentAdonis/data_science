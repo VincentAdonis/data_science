{
  "nbformat": 4,
  "nbformat_minor": 0,
  "metadata": {
    "colab": {
      "provenance": [],
      "authorship_tag": "ABX9TyP0P382C2gHVRkKkhgBKSNH",
      "include_colab_link": true
    },
    "kernelspec": {
      "name": "python3",
      "display_name": "Python 3"
    },
    "language_info": {
      "name": "python"
    }
  },
  "cells": [
    {
      "cell_type": "markdown",
      "metadata": {
        "id": "view-in-github",
        "colab_type": "text"
      },
      "source": [
        "<a href=\"https://colab.research.google.com/github/VincentAdonis/data_science/blob/main/template.ipynb\" target=\"_parent\"><img src=\"https://colab.research.google.com/assets/colab-badge.svg\" alt=\"Open In Colab\"/></a>"
      ]
    },
    {
      "cell_type": "code",
      "execution_count": null,
      "metadata": {
        "colab": {
          "base_uri": "https://localhost:8080/"
        },
        "id": "kb7PwsyFilEE",
        "outputId": "6387bb52-316f-4395-83eb-6adef1d92aff"
      },
      "outputs": [
        {
          "output_type": "stream",
          "name": "stdout",
          "text": [
            "hello ja\n"
          ]
        }
      ],
      "source": [
        "print('hello ja')"
      ]
    },
    {
      "cell_type": "code",
      "source": [],
      "metadata": {
        "id": "wflcOCfRi4Eu"
      },
      "execution_count": null,
      "outputs": []
    }
  ]
}